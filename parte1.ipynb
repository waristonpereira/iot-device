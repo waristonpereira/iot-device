{
  "nbformat": 4,
  "nbformat_minor": 0,
  "metadata": {
    "colab": {
      "name": "IOT Device-parte1-resolvida.ipynb",
      "provenance": []
    },
    "kernelspec": {
      "name": "python3",
      "display_name": "Python 3"
    },
    "language_info": {
      "name": "python"
    }
  },
  "cells": [
    {
      "cell_type": "markdown",
      "metadata": {
        "id": "i3kRSV9ye0Qn"
      },
      "source": [
        "#Instalar bibliotecas para usar o Azure"
      ]
    },
    {
      "cell_type": "code",
      "metadata": {
        "id": "IYV129wKeyAx"
      },
      "source": [
        "!pip install azure.iot.device"
      ],
      "execution_count": null,
      "outputs": []
    },
    {
      "cell_type": "markdown",
      "metadata": {
        "id": "kBFJDg65fRUx"
      },
      "source": [
        "#Importar bibliotecas"
      ]
    },
    {
      "cell_type": "code",
      "metadata": {
        "id": "lU2ZQxmLfUjT"
      },
      "source": [
        "from azure.iot.device import IoTHubDeviceClient, Message"
      ],
      "execution_count": null,
      "outputs": []
    },
    {
      "cell_type": "markdown",
      "metadata": {
        "id": "RbbrClH9fW5u"
      },
      "source": [
        "#Configuração\n",
        "\n",
        "\n",
        "1. Criar o Azure Hub IoT (https://docs.microsoft.com/pt-br/azure/iot-hub/iot-hub-create-through-portal)\n",
        "  - Em tipo e escala de preço escolha: F1: Camada Gratuita \n",
        "2. Acessar o Azure Hub IoT recém criado\n",
        "2. Clicar em \"Dispositivos IoT\", em seguida \"+ Novo\"\n",
        "  - Adicione o nome que desejar e clique em \"Salvar\"\n",
        "3. Clicar no dispositivo recem criado\n",
        "4. Copie a Cadeia de Conexão Primária\n",
        "![image.png](data:image/png;base64,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)\n",
        "\n",
        "\n"
      ]
    },
    {
      "cell_type": "code",
      "metadata": {
        "id": "VEJ2oR0xfWbl"
      },
      "source": [
        "STRING_CONEXAO=\"HostName=host.azure-devices.net;DeviceId=dispositivo-teste;SharedAccessKey=chave\""
      ],
      "execution_count": null,
      "outputs": []
    },
    {
      "cell_type": "markdown",
      "metadata": {
        "id": "1X5jObPokN-z"
      },
      "source": [
        "#Realize o teste de conexão"
      ]
    },
    {
      "cell_type": "code",
      "metadata": {
        "id": "Vdc93Ik9kPGb"
      },
      "source": [
        "# Criar uma instancia de cliente do Azure IoT Hub\n",
        "cliente = IoTHubDeviceClient.create_from_connection_string(STRING_CONEXAO)\n",
        "\n",
        "# Conectar\n",
        "cliente.connect()\n",
        "\n",
        "# Enviar um Teste\n",
        "cliente.send_message(\"{\\\"mensagem\\\":\\\"teste\\\"}\")\n",
        "\n",
        "# Desconectar\n",
        "cliente.shutdown()\n"
      ],
      "execution_count": null,
      "outputs": []
    },
    {
      "cell_type": "markdown",
      "metadata": {
        "id": "3lb7lDkOngZ7"
      },
      "source": [
        "#Recebendo Mensagens"
      ]
    },
    {
      "cell_type": "code",
      "metadata": {
        "id": "SRaGiA05ngtg"
      },
      "source": [
        "import threading\n",
        "\n",
        "def tratar_msg(mensagem):\n",
        "  print(\"Mensagem recebida\")\n",
        "  print(mensagem.data)\n",
        "\n",
        "# Criar uma instancia de cliente do Azure IoT Hub\n",
        "cliente = IoTHubDeviceClient.create_from_connection_string(STRING_CONEXAO)\n",
        "\n",
        "# Conectar\n",
        "cliente.connect()\n",
        "\n",
        "# Definir ação ao receber mensagem\n",
        "cliente.on_message_received = tratar_msg\n",
        "\n",
        "# Aguarda usuário\n",
        "while True:\n",
        "  opcao = input(\"Pressione Q para fechar\\n\")\n",
        "  if opcao == \"q\" or opcao == \"Q\":\n",
        "    print(\"Encerrando...\")\n",
        "    break\n",
        "\n",
        "# Desconectar\n",
        "cliente.shutdown()"
      ],
      "execution_count": null,
      "outputs": []
    },
    {
      "cell_type": "markdown",
      "metadata": {
        "id": "RQJ-GHQ8LEG2"
      },
      "source": [
        "# Atividade\n",
        "\n",
        "Você precisa desenvolver um \"Semáforo IoT\".\n",
        "- A luz atualmente ativa deve ser enviada para nuvem;\n",
        "- O intervalo entre as luzes Verde/Amarelo/Vermelho é de 5 segundos, pode ser configurado remotamente.\n",
        "- A troca de mensagens deve ser no formato JSON\n",
        "  - Status\n",
        "    - {\"luz\": \"nome da cor\"} Ex. {\"luz\": \"VERDE\"}\n",
        "  - Configuração\n",
        "    - {\"intervalo\": valor inteiro em segundos} Ex. {\"intervalo\": 10} "
      ]
    },
    {
      "cell_type": "code",
      "metadata": {
        "id": "bvHjiVpWenzj"
      },
      "source": [
        "import time\n",
        "\n",
        "intervalo = 5\n",
        "\n",
        "# Código Exemplo\n",
        "def verde():\n",
        "    print(\"VERDE\")\n",
        "\n",
        "def amarelo():\n",
        "    print(\"AMARELO\")\n",
        "\n",
        "def vermelho():\n",
        "    print(\"VERMELHO\")\n",
        "\n",
        "while True:\n",
        "  verde()\n",
        "  time.sleep(intervalo)\n",
        "  amarelo()\n",
        "  time.sleep(intervalo)\n",
        "  vermelho()\n",
        "  time.sleep(intervalo)"
      ],
      "execution_count": null,
      "outputs": []
    },
    {
      "cell_type": "code",
      "metadata": {
        "id": "I2yb4iQvL-E-"
      },
      "source": [
        "from azure.iot.device import IoTHubDeviceClient, Message\n",
        "import time\n",
        "import json\n",
        "\n",
        "intervalo = 5\n",
        "\n",
        "STRING_CONEXAO=\"\"\n",
        "\n",
        "def tratar_msg(mensagem):\n",
        "  print(\"Mensagem recebida\")\n",
        "  print(mensagem.data)\n",
        "  try:\n",
        "    dados = json.loads(mensagem.data)\n",
        "    if dados[\"intervalo\"] > 0:\n",
        "      global intervalo\n",
        "      intervalo = dados[\"intervalo\"]\n",
        "  except:\n",
        "    print(\"Mensagem Inválida!\")\n",
        "\n",
        "# Código Exemplo\n",
        "def verde():\n",
        "    print(\"VERDE\")\n",
        "    dados = {\"luz\" : \"VERDE\"}\n",
        "    saida  = json.dumps(dados)\n",
        "    print(saida)\n",
        "    cliente.send_message(saida)\n",
        "\n",
        "def amarelo():\n",
        "    print(\"AMARELO\")\n",
        "    cliente.send_message(\"{\\\"luz\\\":\\\"AMARELO\\\"}\")\n",
        "\n",
        "def vermelho():\n",
        "    print(\"VERMELHO\")\n",
        "    cliente.send_message(\"{\\\"luz\\\":\\\"VERMELHO\\\"}\")\n",
        "\n",
        "# Criar uma instancia de cliente do Azure IoT Hub\n",
        "cliente = IoTHubDeviceClient.create_from_connection_string(STRING_CONEXAO)\n",
        "\n",
        "# Conectar\n",
        "cliente.connect()\n",
        "\n",
        "# Definir ação ao receber mensagem\n",
        "cliente.on_message_received = tratar_msg\n",
        "\n",
        "while True:\n",
        "  verde()\n",
        "  time.sleep(intervalo)\n",
        "  amarelo()\n",
        "  time.sleep(intervalo)\n",
        "  vermelho()\n",
        "  time.sleep(intervalo)"
      ],
      "execution_count": null,
      "outputs": []
    },
    {
      "cell_type": "markdown",
      "metadata": {
        "id": "aEsxDyLP4lCI"
      },
      "source": [
        "# Atividade 2\n",
        "\n",
        "Devemos aprimorar nosso semáforo IoT:\n",
        "- Introduzir os modos de operação (Normal, Piscante)\n",
        "  - no modo piscante somente o amarelo pisca em um intervalo regular\n",
        "    - {\"modo\": \"tipo de operação} Ex. {\"modo\": \"piscante\"}\n",
        "- Introduzir a mensagem de configuração de tempo por cor\n",
        "  - Cada cor deve ter um tempo entre 1 e 30 segundos\n",
        "    - {\"intervalo_verde\" : 10}\n",
        "    - {\"intervalo_amarelo\" : 10}\n",
        "    - {\"intervalo_vemelho\" : 10}\n",
        "\n",
        "- Configurações inválidas são recusadas"
      ]
    },
    {
      "cell_type": "code",
      "metadata": {
        "id": "cTxzFqA06Pb_"
      },
      "source": [
        ""
      ],
      "execution_count": null,
      "outputs": []
    }
  ]
}